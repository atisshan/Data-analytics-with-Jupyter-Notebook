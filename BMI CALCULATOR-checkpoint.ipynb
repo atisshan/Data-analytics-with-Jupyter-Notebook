{
 "cells": [
  {
   "cell_type": "code",
   "execution_count": 6,
   "id": "a1a215bd",
   "metadata": {},
   "outputs": [
    {
     "name": "stdout",
     "output_type": "stream",
     "text": [
      "Enter your name please: Shaleen\n",
      "Enter your weight in kgs: 46\n",
      "Enter your height in inches: 67\n",
      "Hi Shaleen, You are underweight.Eat healthy and well!\n"
     ]
    }
   ],
   "source": [
    "name=input(\"Enter your name please: \")\n",
    "\n",
    "weight=int(input(\"Enter your weight in kgs: \"))\n",
    "\n",
    "height=int(input(\"Enter your height in inches: \"))\n",
    "\n",
    "BMI= (weight/(height**2))* 703\n",
    "\n",
    "if BMI > 0:\n",
    "    if (BMI < 18.5):\n",
    "        print(\"Hi \" + name + \", You are underweight.Eat healthy and well!\")\n",
    "    elif (BMI < 24.9):\n",
    "        print(\"Hi \" + name + \", You are normal weight. Continue keeping it healthy!.\")\n",
    "    elif (BMI < 29.9):\n",
    "        print(\"Hi \" + name + \", You are overweight. Do more exercises and eat healthy!\")\n",
    "    elif (BMI < 24.9):\n",
    "        print(\"Hi \" + name + \", You are obese. Do more exercises, also seek medical advice!\")\n",
    "    elif (BMI < 24.9):\n",
    "        print(\"Hi \" + name + \", You are severely obese. Please get your health checked fora better future!.\")\n",
    "    else:\n",
    "        print(\"Hi \" + name + \", You are morbidly obese. Please seek medical help!\")\n",
    "else:\n",
    "    print('Enter valid values')"
   ]
  },
  {
   "cell_type": "code",
   "execution_count": null,
   "id": "04dab79d",
   "metadata": {},
   "outputs": [],
   "source": []
  },
  {
   "cell_type": "code",
   "execution_count": null,
   "id": "fcc483af",
   "metadata": {},
   "outputs": [],
   "source": []
  },
  {
   "cell_type": "code",
   "execution_count": null,
   "id": "b5236cfd",
   "metadata": {},
   "outputs": [],
   "source": []
  },
  {
   "cell_type": "code",
   "execution_count": null,
   "id": "fe9f0b33",
   "metadata": {},
   "outputs": [],
   "source": []
  },
  {
   "cell_type": "code",
   "execution_count": null,
   "id": "3aa714a6",
   "metadata": {},
   "outputs": [],
   "source": []
  }
 ],
 "metadata": {
  "kernelspec": {
   "display_name": "Python 3 (ipykernel)",
   "language": "python",
   "name": "python3"
  },
  "language_info": {
   "codemirror_mode": {
    "name": "ipython",
    "version": 3
   },
   "file_extension": ".py",
   "mimetype": "text/x-python",
   "name": "python",
   "nbconvert_exporter": "python",
   "pygments_lexer": "ipython3",
   "version": "3.9.13"
  }
 },
 "nbformat": 4,
 "nbformat_minor": 5
}

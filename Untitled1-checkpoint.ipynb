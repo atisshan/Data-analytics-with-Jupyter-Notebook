{
 "cells": [
  {
   "cell_type": "code",
   "execution_count": 1,
   "id": "81a65921",
   "metadata": {},
   "outputs": [
    {
     "name": "stdout",
     "output_type": "stream",
     "text": [
      "Hi\n"
     ]
    }
   ],
   "source": [
    "print(\"Hi\")"
   ]
  },
  {
   "cell_type": "code",
   "execution_count": 6,
   "id": "a001f801",
   "metadata": {},
   "outputs": [
    {
     "ename": "SyntaxError",
     "evalue": "invalid syntax (314923558.py, line 4)",
     "output_type": "error",
     "traceback": [
      "\u001b[1;36m  File \u001b[1;32m\"C:\\Users\\SHALEEN\\AppData\\Local\\Temp\\ipykernel_1136\\314923558.py\"\u001b[1;36m, line \u001b[1;32m4\u001b[0m\n\u001b[1;33m    bool is_married= True;\u001b[0m\n\u001b[1;37m         ^\u001b[0m\n\u001b[1;31mSyntaxError\u001b[0m\u001b[1;31m:\u001b[0m invalid syntax\n"
     ]
    }
   ],
   "source": [
    "def myFunction():\n",
    "    name=\"shaleen\";\n",
    "    age=21;\n",
    "    bool is_married= True;\n",
    "    response=input(f'Hey there {name} your age is {age} and is {is_married}');\n",
    "    print(response);\n",
    "\n",
    "myFunction();"
   ]
  },
  {
   "cell_type": "code",
   "execution_count": 7,
   "id": "1f118e7b",
   "metadata": {},
   "outputs": [
    {
     "ename": "SyntaxError",
     "evalue": "invalid syntax (314923558.py, line 4)",
     "output_type": "error",
     "traceback": [
      "\u001b[1;36m  File \u001b[1;32m\"C:\\Users\\SHALEEN\\AppData\\Local\\Temp\\ipykernel_1136\\314923558.py\"\u001b[1;36m, line \u001b[1;32m4\u001b[0m\n\u001b[1;33m    bool is_married= True;\u001b[0m\n\u001b[1;37m         ^\u001b[0m\n\u001b[1;31mSyntaxError\u001b[0m\u001b[1;31m:\u001b[0m invalid syntax\n"
     ]
    }
   ],
   "source": [
    "def myFunction():\n",
    "    name=\"shaleen\";\n",
    "    age=21;\n",
    "    bool is_married= True;\n",
    "    response=input(f'Hey there {name} your age is {age} and is {is_married}');\n",
    "    print(response);\n",
    "\n",
    "myFunction();"
   ]
  },
  {
   "cell_type": "code",
   "execution_count": 8,
   "id": "b8f416be",
   "metadata": {},
   "outputs": [
    {
     "ename": "SyntaxError",
     "evalue": "invalid syntax (1105033940.py, line 4)",
     "output_type": "error",
     "traceback": [
      "\u001b[1;36m  File \u001b[1;32m\"C:\\Users\\SHALEEN\\AppData\\Local\\Temp\\ipykernel_1136\\1105033940.py\"\u001b[1;36m, line \u001b[1;32m4\u001b[0m\n\u001b[1;33m    bool married= True;\u001b[0m\n\u001b[1;37m         ^\u001b[0m\n\u001b[1;31mSyntaxError\u001b[0m\u001b[1;31m:\u001b[0m invalid syntax\n"
     ]
    }
   ],
   "source": [
    "def myFunction():\n",
    "    name=\"shaleen\";\n",
    "    age=21;\n",
    "   \n",
    "    response=input(f'Hey there {name} your age is {age} and is {married}');\n",
    "    print(response);\n",
    "\n",
    "myFunction();"
   ]
  },
  {
   "cell_type": "code",
   "execution_count": null,
   "id": "f3ec5dae",
   "metadata": {},
   "outputs": [],
   "source": [
    "def myFunction():\n",
    "    name=\"shaleen\";\n",
    "    age=21;\n",
    "   \n",
    "    response=input(f'Hey there {name} your age is {age}.Thank you so much');\n",
    "    print(response);\n",
    "\n",
    "myFunction();"
   ]
  },
  {
   "cell_type": "code",
   "execution_count": null,
   "id": "3faf6cef",
   "metadata": {},
   "outputs": [],
   "source": []
  },
  {
   "cell_type": "code",
   "execution_count": null,
   "id": "be5600f9",
   "metadata": {},
   "outputs": [],
   "source": []
  }
 ],
 "metadata": {
  "kernelspec": {
   "display_name": "Python 3 (ipykernel)",
   "language": "python",
   "name": "python3"
  },
  "language_info": {
   "codemirror_mode": {
    "name": "ipython",
    "version": 3
   },
   "file_extension": ".py",
   "mimetype": "text/x-python",
   "name": "python",
   "nbconvert_exporter": "python",
   "pygments_lexer": "ipython3",
   "version": "3.9.13"
  }
 },
 "nbformat": 4,
 "nbformat_minor": 5
}

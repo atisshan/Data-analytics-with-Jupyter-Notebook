{
 "cells": [
  {
   "cell_type": "code",
   "execution_count": 2,
   "id": "6b35ba79",
   "metadata": {},
   "outputs": [
    {
     "name": "stdout",
     "output_type": "stream",
     "text": [
      "6\n"
     ]
    }
   ],
   "source": [
    "def args(*args):#used when you don't know the number of argunments\n",
    "    print(args[1] * args[2])\n",
    "    \n",
    "    \n",
    "args(1,2,3,4,5)"
   ]
  },
  {
   "cell_type": "code",
   "execution_count": 5,
   "id": "03e89bf0",
   "metadata": {},
   "outputs": [
    {
     "name": "stdout",
     "output_type": "stream",
     "text": [
      "125\n"
     ]
    }
   ],
   "source": [
    "def number(number, power):#used whe you want control over the arguments\n",
    "    print(number**power)\n",
    "\n",
    "number(number=5,power=3)\n",
    "    "
   ]
  },
  {
   "cell_type": "code",
   "execution_count": 6,
   "id": "2d73ab41",
   "metadata": {},
   "outputs": [
    {
     "name": "stdout",
     "output_type": "stream",
     "text": [
      "234567\n"
     ]
    }
   ],
   "source": [
    "def kwargs(**kwargs):#used when you don't know the number of keyword arguments\n",
    "    print(kwargs['integer'] + kwargs['integer2'])\n",
    "    \n",
    "kwargs(integer='234', integer2='567')"
   ]
  },
  {
   "cell_type": "code",
   "execution_count": 9,
   "id": "2f01745a",
   "metadata": {},
   "outputs": [
    {
     "name": "stdout",
     "output_type": "stream",
     "text": [
      "12\n"
     ]
    }
   ],
   "source": [
    "def kwargs(**kwargs):\n",
    "    print(kwargs['integer']*kwargs['integer2'])\n",
    "kwargs(integer=2, integer2=6)\n"
   ]
  },
  {
   "cell_type": "code",
   "execution_count": null,
   "id": "46da64e9",
   "metadata": {},
   "outputs": [],
   "source": []
  },
  {
   "cell_type": "code",
   "execution_count": 10,
   "id": "e7a073d2",
   "metadata": {},
   "outputs": [
    {
     "data": {
      "text/plain": [
       "str"
      ]
     },
     "execution_count": 10,
     "metadata": {},
     "output_type": "execute_result"
    }
   ],
   "source": [
    "a=2\n",
    "\n",
    "type(str(a))"
   ]
  },
  {
   "cell_type": "code",
   "execution_count": 11,
   "id": "ce852edb",
   "metadata": {},
   "outputs": [
    {
     "data": {
      "text/plain": [
       "'[1, 2, 3, 4, 5, 6, 7]'"
      ]
     },
     "execution_count": 11,
     "metadata": {},
     "output_type": "execute_result"
    }
   ],
   "source": [
    "b=[1,2,3,4,5,6,7]\n",
    "\n",
    "str(b)"
   ]
  },
  {
   "cell_type": "code",
   "execution_count": 12,
   "id": "e04e8b63",
   "metadata": {},
   "outputs": [
    {
     "data": {
      "text/plain": [
       "{1, 2, 3, 4, 5, 6, 7}"
      ]
     },
     "execution_count": 12,
     "metadata": {},
     "output_type": "execute_result"
    }
   ],
   "source": [
    "set(b)"
   ]
  },
  {
   "cell_type": "code",
   "execution_count": 13,
   "id": "39ac3c38",
   "metadata": {},
   "outputs": [
    {
     "data": {
      "text/plain": [
       "['name', 'age', 'hair']"
      ]
     },
     "execution_count": 13,
     "metadata": {},
     "output_type": "execute_result"
    }
   ],
   "source": [
    "dict_type={'name':'shaleen', 'age':23, 'hair':'yes'}\n",
    "list(dict_type)"
   ]
  },
  {
   "cell_type": "code",
   "execution_count": 14,
   "id": "57201679",
   "metadata": {},
   "outputs": [
    {
     "data": {
      "text/plain": [
       "[('name', 'shaleen'), ('age', 23), ('hair', 'yes')]"
      ]
     },
     "execution_count": 14,
     "metadata": {},
     "output_type": "execute_result"
    }
   ],
   "source": [
    "list(dict_type.items())"
   ]
  },
  {
   "cell_type": "code",
   "execution_count": null,
   "id": "9aade470",
   "metadata": {},
   "outputs": [],
   "source": []
  },
  {
   "cell_type": "code",
   "execution_count": null,
   "id": "deedd10f",
   "metadata": {},
   "outputs": [],
   "source": []
  }
 ],
 "metadata": {
  "kernelspec": {
   "display_name": "Python 3 (ipykernel)",
   "language": "python",
   "name": "python3"
  },
  "language_info": {
   "codemirror_mode": {
    "name": "ipython",
    "version": 3
   },
   "file_extension": ".py",
   "mimetype": "text/x-python",
   "name": "python",
   "nbconvert_exporter": "python",
   "pygments_lexer": "ipython3",
   "version": "3.9.13"
  }
 },
 "nbformat": 4,
 "nbformat_minor": 5
}
